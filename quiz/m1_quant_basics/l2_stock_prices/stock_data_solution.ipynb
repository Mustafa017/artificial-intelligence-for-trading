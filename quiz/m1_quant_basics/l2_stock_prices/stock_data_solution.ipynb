{
 "cells": [
  {
   "cell_type": "markdown",
   "metadata": {},
   "source": [
    "## Imports"
   ]
  },
  {
   "cell_type": "code",
   "execution_count": 1,
   "metadata": {},
   "outputs": [],
   "source": [
    "import pandas as pd\n",
    "import quiz_tests"
   ]
  },
  {
   "cell_type": "markdown",
   "metadata": {},
   "source": [
    "## Quiz Solution"
   ]
  },
  {
   "cell_type": "code",
   "execution_count": 3,
   "metadata": {},
   "outputs": [
    {
     "name": "stdout",
     "output_type": "stream",
     "text": [
      "Tests Passed\n"
     ]
    },
    {
     "name": "stderr",
     "output_type": "stream",
     "text": [
      "/home/projects/statistics/artificial-intelligence-for-trading/quiz/m1_quant_basics/l2_stock_prices/tests.py:145: FutureWarning: In a future version of pandas all arguments of DataFrame.sort_index will be keyword-only.\n",
      "  obj_b = obj_b.sort_index(1)\n",
      "/home/projects/statistics/artificial-intelligence-for-trading/quiz/m1_quant_basics/l2_stock_prices/tests.py:146: FutureWarning: In a future version of pandas all arguments of DataFrame.sort_index will be keyword-only.\n",
      "  obj_a = obj_a.sort_index(1)\n"
     ]
    }
   ],
   "source": [
    "def csv_to_close(csv_filepath, field_names):\n",
    "    \"\"\"Reads in data from a csv file and produces a DataFrame with close data.\n",
    "    \n",
    "    Parameters\n",
    "    ----------\n",
    "    csv_filepath : str\n",
    "        The name of the csv file to read\n",
    "    field_names : list of str\n",
    "        The field names of the field in the csv file\n",
    "\n",
    "    Returns\n",
    "    -------\n",
    "    close : DataFrame\n",
    "        Close prices for each ticker and date\n",
    "    \"\"\"\n",
    "    \n",
    "    # TODO: Implement Function\n",
    "    \n",
    "    return pd.read_csv(csv_filepath, names=field_names).pivot(index='date', columns='ticker', values='close')\n",
    "\n",
    "\n",
    "quiz_tests.test_csv_to_close(csv_to_close)"
   ]
  }
 ],
 "metadata": {
  "kernelspec": {
   "display_name": "Python 3",
   "language": "python",
   "name": "python3"
  },
  "language_info": {
   "codemirror_mode": {
    "name": "ipython",
    "version": 3
   },
   "file_extension": ".py",
   "mimetype": "text/x-python",
   "name": "python",
   "nbconvert_exporter": "python",
   "pygments_lexer": "ipython3",
   "version": "3.8.10"
  }
 },
 "nbformat": 4,
 "nbformat_minor": 2
}
