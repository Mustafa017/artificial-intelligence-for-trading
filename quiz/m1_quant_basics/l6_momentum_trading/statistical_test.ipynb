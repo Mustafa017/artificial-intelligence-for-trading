{
 "cells": [
  {
   "cell_type": "code",
   "execution_count": 1,
   "metadata": {},
   "outputs": [],
   "source": [
    "import pandas as pd\n",
    "import numpy as np\n",
    "import scipy.stats as stats"
   ]
  },
  {
   "cell_type": "code",
   "execution_count": 22,
   "metadata": {},
   "outputs": [],
   "source": [
    "def analyze_returns(net_returns):\n",
    "    \"\"\"\n",
    "    Perform a t-test, with the null hypothesis being that the mean return is zero.\n",
    "\n",
    "    Parameters\n",
    "    ----------\n",
    "    net_returns : Pandas Series\n",
    "        A Pandas Series for each date\n",
    "\n",
    "    Returns\n",
    "    -------\n",
    "    t_value\n",
    "        t-statistic from t-test\n",
    "    p_value\n",
    "        Corresponding p-value\n",
    "    \"\"\"\n",
    "    # TODO: Perform one-tailed t-test on net_returns\n",
    "    # Hint: You can use stats.ttest_1samp() to perform the test.\n",
    "    #       However, this performs a two-tailed t-test.\n",
    "    #       You'll need to divde the p-value by 2 to get the results of a one-tailed p-value.\n",
    "    null_hypothesis = 0.0\n",
    "    print(net_returns)\n",
    "    result = stats.ttest_1samp(net_returns[\"return\"], null_hypothesis)\n",
    "    t_statistic = result.statistic\n",
    "    p_val = (result.pvalue)*0.5\n",
    "    # print(result)\n",
    "    return t_statistic, p_val\n"
   ]
  },
  {
   "cell_type": "code",
   "execution_count": 23,
   "metadata": {},
   "outputs": [
    {
     "name": "stdout",
     "output_type": "stream",
     "text": [
      "          date    return\n",
      "0   2014-11-30  0.011636\n",
      "1   2014-12-31  0.021954\n",
      "2   2015-01-31  0.040887\n",
      "3   2015-02-28 -0.002511\n",
      "4   2015-03-31  0.017259\n",
      "5   2015-04-30  0.041697\n",
      "6   2015-05-31  0.033973\n",
      "7   2015-06-30  0.011809\n",
      "8   2015-07-31 -0.034297\n",
      "9   2015-08-31 -0.018000\n",
      "10  2015-09-30  0.042449\n",
      "11  2015-10-31  0.060487\n",
      "12  2015-11-30  0.004425\n",
      "13  2015-12-31 -0.011128\n",
      "14  2016-01-31  0.039041\n",
      "15  2016-02-29 -0.018535\n",
      "16  2016-03-31  0.051492\n",
      "17  2016-04-30  0.008987\n",
      "18  2016-05-31  0.040301\n",
      "19  2016-06-30 -0.070148\n",
      "20  2016-07-31 -0.037446\n",
      "21  2016-08-31 -0.057651\n",
      "22  2016-09-30  0.052808\n",
      "23  2016-10-31  0.048136\n",
      "24  2016-11-30  0.019070\n",
      "25  2016-12-31  0.023694\n",
      "26  2017-01-31 -0.022749\n",
      "27  2017-02-28 -0.077439\n",
      "28  2017-03-31  0.033248\n",
      "29  2017-04-30 -0.020916\n",
      "30  2017-05-31 -0.069554\n",
      "31  2017-06-30  0.003759\n",
      "t-statistic: 0.760\n",
      "p-value: 0.226606\n"
     ]
    }
   ],
   "source": [
    "def test_run(filename='./net_returns.csv'):\n",
    "    \"\"\"Test run analyze_returns() with net strategy returns from a file.\"\"\"\n",
    "    net_returns = pd.read_csv(filename, sep=',')\n",
    "    t, p = analyze_returns(net_returns)\n",
    "    print(\"t-statistic: {:.3f}\\np-value: {:.6f}\".format(t, p))\n",
    "\n",
    "if __name__ == '__main__':\n",
    "    test_run()"
   ]
  }
 ],
 "metadata": {
  "interpreter": {
   "hash": "e8f4ab23dd56040138e08aba640d33fee87725a7dfc9631fc78ea61e7535011a"
  },
  "kernelspec": {
   "display_name": "Python 3.8.10 ('algotrade')",
   "language": "python",
   "name": "python3"
  },
  "language_info": {
   "codemirror_mode": {
    "name": "ipython",
    "version": 3
   },
   "file_extension": ".py",
   "mimetype": "text/x-python",
   "name": "python",
   "nbconvert_exporter": "python",
   "pygments_lexer": "ipython3",
   "version": "3.8.10"
  },
  "orig_nbformat": 4
 },
 "nbformat": 4,
 "nbformat_minor": 2
}
