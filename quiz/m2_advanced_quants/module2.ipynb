{
 "cells": [
  {
   "cell_type": "markdown",
   "metadata": {},
   "source": [
    "Alpha :  an expression that outputs a vector where each component is a value indicative of future returns for an individual stock.\n",
    "(video definition) an expression applies to the cross-section of your universe of stocks which returns a vector of real numbers whose values are proportional to the size of the position you will take on each asset.\n",
    "\n",
    "Source of outliers\n",
    "* Fat fingers errors\n",
    "* N/A values in OHLC prices and traded volume\n",
    "* Same OHLC prices, and traded volume is zero\n",
    "* Stock market crashes\n",
    "* Stock price drops 80% overnight, and traded volume is twice the usual magnitude\n",
    "* Working with unadjusted or nominal data - the data will have discontinuities of prices on days that the company issued dividends, split their stock, or took other corporate actions."
   ]
  },
  {
   "cell_type": "markdown",
   "metadata": {},
   "source": [
    "understanding regression\n",
    "when using regression we choose one or more independent variables to predict a dependent variable. independent variables may include market indices, employment numbers, weather forecast, or consumer spending reports. Dependent variables include stock price returns. But may also include electricity consumption, amount of corn harvested.\n",
    "\n",
    "stock returns can be used either as dependent or independent variable in a regression.\n",
    "\n",
    "statistical arbitrage is a trading technique that involves simultaneously buying and selling two related assets based on the analysis of how these two assets move in relation to one another.\n",
    "\n",
    "Signal-Noise ratio\n",
    "signal is the meaningful part of our input data that helps us predict our dependent variable.\n",
    "noise is the random part of our data that doesn't help to make predictions.\n",
    "signal-noise ratio needs to be low."
   ]
  },
  {
   "cell_type": "markdown",
   "metadata": {},
   "source": [
    "Random variable - is a variable that can take a random value.\n",
    "\n",
    "The probability that a random variable takes on a given value, is determined by its `probability distribution`. Think of a probability distribution as a range of numbers, each with a probability value associated with it. With data from the real world, we dont know its underlying probability distribution, however we can approximate the probability distribution with an equation.\n",
    "\n",
    "A Histogram resembles the shape of its probability distribution."
   ]
  },
  {
   "cell_type": "markdown",
   "metadata": {},
   "source": [
    "Boxplot\n",
    "\n",
    "A boxplot shows the spread and central tendency of the data. It checks for symmetry in your data.\n",
    "\n",
    "Quantiles - They divide the data into groups. They refer to any points dividing a dataset into equal probability intervals. Each interval contains the same fraction of the total data points. The most common quantiles include percentiles (which divide data into 100 equal parts), deciles (10 equal parts), quintiles (5 equal parts), and quartiles (4 equal parts).\n",
    "\n",
    "Quartiles - are a specific type of quantile that divide the data into four equal parts, each representing 25% of the dataset. They are the 3 dividing lines and not the 4 groups.\n",
    " * `Q1` (First Quartile): The 25th percentile, which means 25% of the data falls below this value.\n",
    "\n",
    " * `Q2` (Second Quartile or Median): The 50th percentile, which splits the dataset in half.\n",
    "\n",
    " * `Q3` (Third Quartile): The 75th percentile, meaning 75% of the data falls below this value.\n",
    "\n",
    "`The Box`: The central box in a box plot represents the interquartile range (`IQR`), which is the distance between the first quartile (Q1) and the third quartile (Q3) i.e. (`Q1 - Q3`). `This box captures the middle 50% of the data`.\n",
    "\n",
    "`The Median Line`: A line inside the box indicates the `median` (Q2), which is the second quartile.\n",
    "\n",
    "`Whiskers`: The lines extending from the box (whiskers) typically show the range of the data within `1.5 times the IQR` from the lower quartile `(Q1 - 1.5 x IQR)` and upper quartile `(Q3 + 1.5 x IQR)`. Points outside this range are often considered `outliers` and are sometimes plotted `individually`.\n"
   ]
  },
  {
   "cell_type": "markdown",
   "metadata": {},
   "source": [
    "Test For Normality\n",
    "\n",
    "If you look at the normal distribution, It's symmetric. A `Symmetric distribution` means that the `median is equal to the mean`. The first quartile and third quartile are the same distance from the median. Also the whiskers are same distance away from the median.\n",
    "\n",
    "By Visualizing your data with a box plot, you can see if it's symmetric or not. If it's not symmetric, then it's not Normally distributed.\n",
    "\n",
    "We can look at the data using both a box plot and a Histogram."
   ]
  },
  {
   "cell_type": "markdown",
   "metadata": {},
   "source": []
  },
  {
   "cell_type": "markdown",
   "metadata": {},
   "source": [
    "\n",
    "## Box-Cox Transfromation\n",
    "\n",
    "\\begin{cases}\n",
    "\\frac{y^\\lambda - 1}{\\lambda} & \\text{if } \\lambda \\neq 0 \\\\\n",
    "\\log(y) & \\text{if } \\lambda = 0\n",
    "\\end{cases}\n",
    "\n",
    "Where:\n",
    "- \\( y \\) is the original data.\n",
    "- \\( y($\\lambda$) \\) is the transformed data.\n",
    "- \\( $\\lambda$ \\) is the transformation parameter.\n",
    "### Key Points:\n",
    "1. **Parameter \\($\\lambda$\\)**:\n",
    "- The parameter \\($\\lambda$\\) is estimated from the data and can take on any real value.\n",
    "- Common values of \\($\\lambda$\\) include:\n",
    "- \\( $\\lambda$ = 1 \\): No transformation (original data).\n",
    "- \\( $\\lambda$ = 0.5 \\): Square root transformation.\n",
    "- \\( $\\lambda$ = 0 \\): Natural logarithm transformation.\n",
    "- \\( $\\lambda$ = -1 \\): Reciprocal transformation.\n",
    "2. **Purpose**:\n",
    "- To make the data more normal-like.\n",
    "- To stabilize the variance across the dataset, particularly useful in linear regression where homoscedasticity is assumed.\n",
    "3. **Application**:\n",
    "- The transformation is applied to each data point in the dataset.\n",
    "- After the transformation, statistical techniques that assume normality and homoscedasticity can be more appropriately applied.\n",
    "4. **Choosing \\($\\lambda$\\)**:\n",
    "- The value of \\($\\lambda$\\) that best normalizes the data and stabilizes variance is typically found using maximum likelihood estimation.\n",
    "- Statistical software can be used to determine the optimal \\($\\lambda$\\) value.\n",
    "### Example of Usage:\n",
    "Suppose we have a dataset where the response variable \\( y \\) has a skewed distribution and the variance of \\( y \\) changes with the level of an independent variable. Applying a Box-Cox transformation might help to:\n",
    "- Transform the skewed distribution into one that is more symmetric (i.e., closer to normal).\n",
    "- Stabilize the variance, making the variability of \\( y \\) more consistent across different levels of the independent variables.\n",
    "### Steps:\n",
    "1. **Estimate \\($\\lambda$\\)**: Using maximum likelihood estimation or another method to find the value of \\($\\lambda$\\) that makes the data approximately normal and stabilizes variance.\n",
    "2. **Transform Data**: Apply the Box-Cox transformation to the data using the estimated \\($\\lambda$\\).\n",
    "3. **Analyze Transformed Data**: Perform statistical analyses (e.g., regression) on the transformed data.\n",
    "### Practical Considerations:\n",
    "- The Box-Cox transformation is only applicable to positive data. If the dataset contains zero or negative values, it needs to be shifted by adding a constant to make all values positive before applying the transformation.\n",
    "- Interpretation of results may change after transformation, and it may be necessary to transform results back to the original scale for reporting purposes.\n",
    "Overall, the Box-Cox transformation is a powerful tool in the preprocessing step of statistical analysis to meet the assumptions required for various parametric tests and models."
   ]
  },
  {
   "cell_type": "markdown",
   "metadata": {},
   "source": []
  }
 ],
 "metadata": {
  "language_info": {
   "name": "python"
  }
 },
 "nbformat": 4,
 "nbformat_minor": 2
}
