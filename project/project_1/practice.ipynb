{
 "cells": [
  {
   "cell_type": "code",
   "execution_count": null,
   "metadata": {},
   "outputs": [],
   "source": [
    "import sys\n",
    "sys.path.insert(0, 'C:\\\\Users\\\\kelvi\\\\mustafa\\\\artificial-intelligence-for-trading')"
   ]
  },
  {
   "cell_type": "code",
   "execution_count": null,
   "metadata": {},
   "outputs": [],
   "source": [
    "sys.executable"
   ]
  },
  {
   "cell_type": "markdown",
   "metadata": {},
   "source": [
    "# Exploratory Data Analysis"
   ]
  },
  {
   "cell_type": "code",
   "execution_count": null,
   "metadata": {},
   "outputs": [],
   "source": [
    "import pandas as pd\n",
    "import numpy as np\n",
    "import matplotlib.pyplot as plt\n",
    "\n",
    "plt.rcParams['figure.figsize'] = (20,5)"
   ]
  },
  {
   "cell_type": "code",
   "execution_count": null,
   "metadata": {},
   "outputs": [],
   "source": [
    "data = pd.read_csv('eod-quotemedia.csv', parse_dates=['date'], index_col=False)\n",
    "data.head()"
   ]
  },
  {
   "cell_type": "markdown",
   "metadata": {},
   "source": [
    "Represent data in 3D"
   ]
  },
  {
   "cell_type": "code",
   "execution_count": null,
   "metadata": {},
   "outputs": [],
   "source": [
    "data.index"
   ]
  },
  {
   "cell_type": "code",
   "execution_count": null,
   "metadata": {},
   "outputs": [],
   "source": [
    "data.info()"
   ]
  },
  {
   "cell_type": "code",
   "execution_count": null,
   "metadata": {},
   "outputs": [],
   "source": [
    "data3d = data.reset_index().pivot(index='date', columns='ticker', values='adj_close')"
   ]
  },
  {
   "cell_type": "code",
   "execution_count": null,
   "metadata": {},
   "outputs": [],
   "source": [
    "data3d.index"
   ]
  },
  {
   "cell_type": "code",
   "execution_count": null,
   "metadata": {},
   "outputs": [],
   "source": [
    "data3d.iloc[:3, :5]"
   ]
  },
  {
   "cell_type": "markdown",
   "metadata": {},
   "source": [
    "Resample data to Month End\n",
    "* Using resample needs the index to be a datetime index.\n",
    "* The `Resample()` function will group data into monthly buckets.\n",
    "* We can't use `OHLC` function since our data only contains adjusted closing prices. Therefore we'll use `last()` function to get the last observation of each month."
   ]
  },
  {
   "cell_type": "code",
   "execution_count": null,
   "metadata": {},
   "outputs": [],
   "source": [
    "resampled_data = data3d.resample('ME').last()"
   ]
  },
  {
   "cell_type": "code",
   "execution_count": null,
   "metadata": {},
   "outputs": [],
   "source": [
    "resampled_data.iloc[:5, :3]"
   ]
  },
  {
   "cell_type": "code",
   "execution_count": null,
   "metadata": {},
   "outputs": [],
   "source": [
    "resampled_data.info()"
   ]
  },
  {
   "cell_type": "code",
   "execution_count": null,
   "metadata": {},
   "outputs": [],
   "source": [
    "apple_ticker = 'AAPL'\n",
    "# resampled_data.loc[:, apple_ticker]\n",
    "resampled_data[apple_ticker].head(10)"
   ]
  },
  {
   "cell_type": "code",
   "execution_count": null,
   "metadata": {},
   "outputs": [],
   "source": [
    "plt.plot(resampled_data.loc[:, apple_ticker])"
   ]
  },
  {
   "cell_type": "code",
   "execution_count": null,
   "metadata": {},
   "outputs": [],
   "source": [
    "plt.plot(resampled_data.loc[:, apple_ticker], label='Monthly Close')\n",
    "plt.plot(data3d.loc[:, apple_ticker], label='Daily Adjusted Close')\n",
    "plt.legend()"
   ]
  },
  {
   "cell_type": "markdown",
   "metadata": {},
   "source": [
    "# Creating Interactive charts using `Plotly`"
   ]
  },
  {
   "cell_type": "code",
   "execution_count": null,
   "metadata": {},
   "outputs": [],
   "source": [
    "import plotly.express as px\n",
    "import plotly.graph_objects as go\n",
    "import plotly.offline as offline_mode\n",
    "\n",
    "offline_mode.init_notebook_mode(connected=True)"
   ]
  },
  {
   "cell_type": "code",
   "execution_count": null,
   "metadata": {},
   "outputs": [],
   "source": [
    "resampled_data.columns"
   ]
  },
  {
   "cell_type": "code",
   "execution_count": null,
   "metadata": {},
   "outputs": [],
   "source": [
    "def plot_stock(name, df):   \n",
    "    return px.line(title=name, x=df.index, y=df )"
   ]
  },
  {
   "cell_type": "code",
   "execution_count": null,
   "metadata": {},
   "outputs": [],
   "source": [
    "# px.scatter(x=resampled_data.loc[:, apple_ticker].index, y=resampled_data.loc[:, apple_ticker])\n",
    "plot_stock('Monthly close', resampled_data.loc[:, apple_ticker])"
   ]
  },
  {
   "cell_type": "code",
   "execution_count": null,
   "metadata": {},
   "outputs": [],
   "source": [
    "fig = px.line(title='{} close'.format(apple_ticker), x=resampled_data.loc[:, apple_ticker].index, y=resampled_data.loc[:, apple_ticker])\n",
    "fig.add_scatter(x=data3d.loc[:, apple_ticker].index, y=data3d.loc[:, apple_ticker])\n",
    "fig.show()"
   ]
  },
  {
   "cell_type": "code",
   "execution_count": null,
   "metadata": {},
   "outputs": [],
   "source": [
    "def _generate_traces(name_df):\n",
    "    traces = []\n",
    "\n",
    "    for name,df in name_df:\n",
    "        traces.append(go.Scatter(\n",
    "            name=name,\n",
    "            x = df.index,\n",
    "            y = df,\n",
    "            mode = 'lines'\n",
    "        ))\n",
    "    return traces\n",
    "    "
   ]
  },
  {
   "cell_type": "code",
   "execution_count": null,
   "metadata": {},
   "outputs": [],
   "source": [
    "traces = _generate_traces([('Monthly close',resampled_data.loc[:, apple_ticker]), ('Adjusted Daily close',data3d.loc[:, apple_ticker])])\n",
    "offline_mode.iplot({\"data\":traces, 'layout':go.Layout(title=\"{} close\".format(apple_ticker))})"
   ]
  },
  {
   "cell_type": "markdown",
   "metadata": {},
   "source": [
    "# Calculate Returns"
   ]
  },
  {
   "cell_type": "code",
   "execution_count": null,
   "metadata": {},
   "outputs": [],
   "source": [
    "def calc_raw_returns(df, n_shift=1):\n",
    "    # current price divided by previous price. Then minus 1 from the result.\n",
    "    stock_returns = (df / df.shift(n_shift)) -1\n",
    "    return stock_returns"
   ]
  },
  {
   "cell_type": "code",
   "execution_count": null,
   "metadata": {},
   "outputs": [],
   "source": [
    "raw_returns = calc_raw_returns(resampled_data)"
   ]
  },
  {
   "cell_type": "code",
   "execution_count": null,
   "metadata": {},
   "outputs": [],
   "source": [
    "plot_stock('{} raw_returns'.format(apple_ticker), raw_returns.loc[:,apple_ticker])"
   ]
  },
  {
   "cell_type": "code",
   "execution_count": null,
   "metadata": {},
   "outputs": [],
   "source": [
    "def calc_log_returns(df, nshift=1):\n",
    "    \"\"\"\n",
    "    $$R_t = log_e(P_t) - log_e(P_{t-1})$$\n",
    "    \"\"\"\n",
    "    # log of loookahead price minus log of current price\n",
    "    log_returns = np.log(df) - np.log(df.shift(nshift))\n",
    "    return log_returns"
   ]
  },
  {
   "cell_type": "code",
   "execution_count": null,
   "metadata": {},
   "outputs": [],
   "source": [
    "log_returns = calc_log_returns(resampled_data)"
   ]
  },
  {
   "cell_type": "code",
   "execution_count": null,
   "metadata": {},
   "outputs": [],
   "source": [
    "plot_stock('{} log_returns'.format(apple_ticker), log_returns.loc[:,apple_ticker])"
   ]
  },
  {
   "cell_type": "code",
   "execution_count": null,
   "metadata": {},
   "outputs": [],
   "source": [
    "prev_returns = log_returns.shift(1)\n",
    "lookahead_returns = log_returns.shift(-1)"
   ]
  },
  {
   "cell_type": "code",
   "execution_count": null,
   "metadata": {},
   "outputs": [],
   "source": [
    "traces = _generate_traces([('previous log returns',prev_returns.loc[:, apple_ticker]), ('current log returns',log_returns.loc[:, apple_ticker])])\n",
    "offline_mode.iplot({\"data\":traces, 'layout':go.Layout(title=\"{} previous vs current log returns\".format(apple_ticker))})"
   ]
  },
  {
   "cell_type": "code",
   "execution_count": null,
   "metadata": {},
   "outputs": [],
   "source": [
    "traces = _generate_traces([('current log returns',log_returns.loc[:, apple_ticker]), ('lookahead log returns',lookahead_returns.loc[:, apple_ticker])])\n",
    "offline_mode.iplot({\"data\":traces, 'layout':go.Layout(title=\"{} current vs lookahead log returns\".format(apple_ticker))})"
   ]
  },
  {
   "cell_type": "markdown",
   "metadata": {},
   "source": [
    "### Generate a Trading Signal"
   ]
  },
  {
   "cell_type": "markdown",
   "metadata": {},
   "source": [
    "Produce long (\"buy\") and short (\"sell\") positions.\n",
    "\n",
    "Select the top performing stocks for the long portfolio, and the bottom performing stocks for the short portfolio.\n",
    "\n",
    "Implement the `get_top_n` function to get the top performing stocks for each month. Get the top performing stocks from `prev_returns` by assigning them a value of 1. For all other stocks, give them a value of 0."
   ]
  },
  {
   "cell_type": "code",
   "execution_count": null,
   "metadata": {},
   "outputs": [],
   "source": [
    "def get_top_n(df, n):\n",
    "    top_stock = df.copy()\n",
    "\n",
    "    # for index, series in df.iterrows():\n",
    "    #     top_stock.loc[index, series.index] = series.isin(df.loc[index, series.nlargest(n).index])\n",
    "        \n",
    "    return (top_stock.rank(1,method='average', numeric_only=False, na_option='keep', ascending=False) <= n).astype(np.int64)"
   ]
  },
  {
   "cell_type": "code",
   "execution_count": null,
   "metadata": {},
   "outputs": [],
   "source": [
    "sig = get_top_n(log_returns, 50)\n",
    "sig"
   ]
  },
  {
   "cell_type": "code",
   "execution_count": null,
   "metadata": {},
   "outputs": [],
   "source": [
    "it = log_returns.iterrows()\n",
    "next(it)"
   ]
  },
  {
   "cell_type": "code",
   "execution_count": null,
   "metadata": {},
   "outputs": [],
   "source": [
    "next(it)"
   ]
  },
  {
   "cell_type": "code",
   "execution_count": null,
   "metadata": {},
   "outputs": [],
   "source": [
    "import itertools"
   ]
  },
  {
   "cell_type": "code",
   "execution_count": null,
   "metadata": {},
   "outputs": [],
   "source": [
    "for index, series in itertools.islice(sig.iterrows(), 48):\n",
    "    print(f'index: {index} ====> {series.isnull().sum()}')"
   ]
  },
  {
   "cell_type": "markdown",
   "metadata": {},
   "source": [
    "view Data"
   ]
  },
  {
   "cell_type": "code",
   "execution_count": null,
   "metadata": {},
   "outputs": [],
   "source": [
    "# print top tickers\n",
    "sig.sum().sort_values()"
   ]
  },
  {
   "cell_type": "code",
   "execution_count": null,
   "metadata": {},
   "outputs": [],
   "source": [
    "sig.sum().sort_values(ascending=False).index[:5].values.tolist()"
   ]
  },
  {
   "cell_type": "code",
   "execution_count": null,
   "metadata": {},
   "outputs": [],
   "source": [
    "def print_top_N(df, title, top_n):\n",
    "    print('{} Most {}'.format(top_n,title), sep='\\n')\n",
    "    print(\" , \".join(df.sum().sort_values(ascending=False).index[:top_n].values.tolist()), end='\\n')"
   ]
  },
  {
   "cell_type": "code",
   "execution_count": null,
   "metadata": {},
   "outputs": [],
   "source": [
    "long_stocks = get_top_n(log_returns,50)\n",
    "short_stocks = get_top_n(-1*log_returns,50)\n",
    "print_top_N(long_stocks, 'Longed stocks', 10)\n",
    "print_top_N(short_stocks, 'Shorted stocks', 10)"
   ]
  },
  {
   "cell_type": "markdown",
   "metadata": {},
   "source": [
    "# Cross-sectional Momentum Strategy (Trading Strategy)\n",
    "also known as equity statistical arbitrage or equity market nautral investing.\n",
    "\n",
    "NB: Avoid survivorship bias (when testing your strategy, use dataset that contains companies that were part of the stock universe at that time.)\n",
    "\n",
    "Momentum-based Portfolio.\n",
    "\n",
    "Assumptions\n",
    "* Each stock has the same number of dollars invested, so that the portfolio weights for each stock are the same.\n",
    "* Both the long and short portfolio have the same dollar amount invested (in terms of absolute magnitude), in which case the combination of the long and short portfolios would also be the simple average between the two. where the short is a negative value.\n",
    "$$(long + short)/2$$\n",
    "\n",
    "Portfolio Returns"
   ]
  },
  {
   "cell_type": "code",
   "execution_count": null,
   "metadata": {},
   "outputs": [],
   "source": [
    "def portfolio_returns(df_long, df_short, lookahead_returns, n_stocks):\n",
    "    portfolio_returns = ((df_long + (-1*df_short)) * lookahead_returns)/n_stocks\n",
    "    return portfolio_returns"
   ]
  },
  {
   "cell_type": "code",
   "execution_count": null,
   "metadata": {},
   "outputs": [],
   "source": [
    "expected_portfolio_returns = portfolio_returns(long_stocks, short_stocks, lookahead_returns, 100)"
   ]
  },
  {
   "cell_type": "code",
   "execution_count": null,
   "metadata": {},
   "outputs": [],
   "source": [
    "expected_portfolio_returns.T.sum()"
   ]
  },
  {
   "cell_type": "code",
   "execution_count": null,
   "metadata": {},
   "outputs": [],
   "source": [
    "plot_stock('Portfolio Returns', expected_portfolio_returns.T.sum())"
   ]
  },
  {
   "cell_type": "markdown",
   "metadata": {},
   "source": [
    "# Statistical Tests"
   ]
  },
  {
   "cell_type": "markdown",
   "metadata": {},
   "source": [
    "The annualized rate of return allows you to compare the rate of return from this strategy to other quoted rates of return, which are usually quoted on an annual basis. "
   ]
  },
  {
   "cell_type": "code",
   "execution_count": null,
   "metadata": {},
   "outputs": [],
   "source": [
    "expected_portfolio_returns_by_date = expected_portfolio_returns.T.sum()\n",
    "\n",
    "portfolio_returns_mean = expected_portfolio_returns_by_date.mean()\n",
    "portfolio_returns_ste = expected_portfolio_returns_by_date.sem()\n",
    "annualized_rate = (np.exp(portfolio_returns_mean*12) - 1)* 100\n",
    "print(\"\"\"\n",
    "      mean : {:.6f}\n",
    "      Standard Error: {:6f}\n",
    "      Annualized Rate: {:.2f}%\n",
    "      \"\"\".format(portfolio_returns_mean,portfolio_returns_ste, annualized_rate))"
   ]
  },
  {
   "cell_type": "markdown",
   "metadata": {},
   "source": [
    "## t-Test\n",
    "Our null hypothesis ($H_0$) is that the actual mean return from the signal is zero. \n",
    "We'll perform a one-sample, one-sided t-test on the observed mean return, to see if we can reject $H_0$.\n",
    "* compute the t-statistic, and then find its corresponding p-value. (p-value will indicate the probability of observing a t-statistic equally or more extreme than the one we observed if the null hypothesis were true)\n",
    "\n",
    "A small p-value means that the chance of observing the t-statistic we observed under the null hypothesis is small, and thus casts doubt on the null hypothesis. It's good practice to set a desired level of significance or alpha ($\\alpha$) _before_ computing the p-value, and then reject the null hypothesis if $p < \\alpha$.\n",
    "\n",
    "For this project, we'll use $\\alpha = 0.05$, since it's a common value to use.\n",
    "\n",
    "\n",
    "\n",
    "\n"
   ]
  },
  {
   "cell_type": "code",
   "execution_count": null,
   "metadata": {},
   "outputs": [],
   "source": [
    "%%!pip install scipy"
   ]
  },
  {
   "cell_type": "code",
   "execution_count": null,
   "metadata": {},
   "outputs": [],
   "source": [
    "from scipy.stats import ttest_1samp"
   ]
  },
  {
   "cell_type": "code",
   "execution_count": null,
   "metadata": {},
   "outputs": [],
   "source": [
    "def analyze_alpha(df):\n",
    "    null_hypothesis = 0.0\n",
    "    #ttest_1samp performs a two-sided test, so divide the p-value by 2 to get 1-sided p-value\n",
    "    t_statistic, p_value = ttest_1samp(df, null_hypothesis)\n",
    "    return t_statistic, p_value*0.5"
   ]
  },
  {
   "cell_type": "code",
   "execution_count": null,
   "metadata": {},
   "outputs": [],
   "source": [
    "t_statistic, p_value = analyze_alpha(expected_portfolio_returns_by_date)\n",
    "print(\"\"\"\n",
    "Alpha Analysis:\n",
    "      t_statistic: {:.6f}\n",
    "      p_value: {:.6f}\n",
    "\"\"\".format(t_statistic, p_value))"
   ]
  },
  {
   "cell_type": "markdown",
   "metadata": {},
   "source": [
    "### Question: What p-value did you observe? And what does that indicate about your signal?\n",
    "\n",
    "Answer : The p_value is greater than $\\alpha$=0.05, which is not statistically significant. Therefore, we `fail to reject` the null hypothesis and conclude that the actual mean return from the trading signal is Zero."
   ]
  },
  {
   "cell_type": "markdown",
   "metadata": {},
   "source": []
  }
 ],
 "metadata": {
  "kernelspec": {
   "display_name": "AIND",
   "language": "python",
   "name": "python3"
  },
  "language_info": {
   "codemirror_mode": {
    "name": "ipython",
    "version": 3
   },
   "file_extension": ".py",
   "mimetype": "text/x-python",
   "name": "python",
   "nbconvert_exporter": "python",
   "pygments_lexer": "ipython3",
   "version": "3.12.2"
  }
 },
 "nbformat": 4,
 "nbformat_minor": 2
}
